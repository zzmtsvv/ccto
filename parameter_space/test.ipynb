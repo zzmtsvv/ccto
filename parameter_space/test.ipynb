{
 "cells": [
  {
   "cell_type": "code",
   "execution_count": null,
   "metadata": {},
   "outputs": [],
   "source": [
    "!pip install lpips"
   ]
  },
  {
   "cell_type": "code",
   "execution_count": null,
   "metadata": {},
   "outputs": [],
   "source": [
    "from hessian import HessianEigenvectors\n",
    "from generator import Generator\n",
    "from lpips import LPIPS"
   ]
  },
  {
   "cell_type": "code",
   "execution_count": null,
   "metadata": {},
   "outputs": [],
   "source": [
    "alexnet = LPIPS()\n",
    "\n",
    "generator = Generator(1, num_blocks=[2, 2, 2, 2])\n",
    "eigenvector_search = HessianEigenvectors(generator,\n",
    "                                         alexnet,\n",
    "                                         [2, 1, 2])"
   ]
  },
  {
   "cell_type": "code",
   "execution_count": null,
   "metadata": {},
   "outputs": [],
   "source": [
    "eigenvectors = eigenvector_search.top_k_eigenvectors()"
   ]
  }
 ],
 "metadata": {
  "language_info": {
   "name": "python"
  },
  "orig_nbformat": 4
 },
 "nbformat": 4,
 "nbformat_minor": 2
}
